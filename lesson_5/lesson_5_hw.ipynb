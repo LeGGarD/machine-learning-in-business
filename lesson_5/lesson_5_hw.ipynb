{
 "cells": [
  {
   "cell_type": "markdown",
   "id": "preceding-groove",
   "metadata": {},
   "source": [
    "# Урок 5. Задача оттока: варианты постановки, возможные способы решения\n",
    "1. Для нашего пайплайна (Case1) поэкспериментировать с разными моделями: 1 - бустинг, 2 - логистическая регрессия (не забудьте здесь добавить в cont_transformer стандартизацию - нормирование вещественных признаков)\n",
    "2. Отобрать лучшую модель по метрикам (кстати, какая по вашему мнению здесь наиболее подходящая DS-метрика)\n",
    "3. Для отобранной модели (на отложенной выборке) сделать оценку экономической эффективности при тех же вводных, как в вопросе 2 (1 доллар на привлечение, 2 доллара - с каждого правильно классифицированного (True Positive) удержанного). (подсказка) нужно посчитать FP/TP/FN/TN для выбранного оптимального порога вероятности и посчитать выручку и траты.\n",
    "4. (опционально) Провести подбор гиперпараметров лучшей модели по итогам 2-3\n",
    "5. (опционально) Еще раз провести оценку экономической эффективности  \n",
    "***"
   ]
  },
  {
   "cell_type": "code",
   "execution_count": 54,
   "id": "pacific-costume",
   "metadata": {},
   "outputs": [],
   "source": [
    "import pandas as pd\n",
    "import numpy as np\n",
    "import itertools\n",
    "\n",
    "import matplotlib.pyplot as plt\n",
    "%matplotlib inline\n",
    "\n",
    "from sklearn.model_selection import train_test_split\n",
    "\n",
    "from sklearn.compose import make_column_transformer\n",
    "from sklearn.pipeline import make_pipeline\n",
    "from sklearn.preprocessing import OneHotEncoder, RobustScaler\n",
    "\n",
    "from sklearn.linear_model import LogisticRegression\n",
    "from sklearn.ensemble import RandomForestClassifier, GradientBoostingClassifier\n",
    "\n",
    "from sklearn.model_selection import cross_val_score, GridSearchCV\n",
    "from sklearn.metrics import confusion_matrix,  f1_score, roc_auc_score, \\\n",
    "                            precision_score, classification_report, precision_recall_curve"
   ]
  },
  {
   "cell_type": "code",
   "execution_count": 2,
   "id": "structural-thing",
   "metadata": {},
   "outputs": [
    {
     "data": {
      "text/html": [
       "<div>\n",
       "<style scoped>\n",
       "    .dataframe tbody tr th:only-of-type {\n",
       "        vertical-align: middle;\n",
       "    }\n",
       "\n",
       "    .dataframe tbody tr th {\n",
       "        vertical-align: top;\n",
       "    }\n",
       "\n",
       "    .dataframe thead th {\n",
       "        text-align: right;\n",
       "    }\n",
       "</style>\n",
       "<table border=\"1\" class=\"dataframe\">\n",
       "  <thead>\n",
       "    <tr style=\"text-align: right;\">\n",
       "      <th></th>\n",
       "      <th>RowNumber</th>\n",
       "      <th>CustomerId</th>\n",
       "      <th>Surname</th>\n",
       "      <th>CreditScore</th>\n",
       "      <th>Geography</th>\n",
       "      <th>Gender</th>\n",
       "      <th>Age</th>\n",
       "      <th>Tenure</th>\n",
       "      <th>Balance</th>\n",
       "      <th>NumOfProducts</th>\n",
       "      <th>HasCrCard</th>\n",
       "      <th>IsActiveMember</th>\n",
       "      <th>EstimatedSalary</th>\n",
       "      <th>Exited</th>\n",
       "    </tr>\n",
       "  </thead>\n",
       "  <tbody>\n",
       "    <tr>\n",
       "      <th>0</th>\n",
       "      <td>1</td>\n",
       "      <td>15634602</td>\n",
       "      <td>Hargrave</td>\n",
       "      <td>619</td>\n",
       "      <td>France</td>\n",
       "      <td>Female</td>\n",
       "      <td>42</td>\n",
       "      <td>2</td>\n",
       "      <td>0.00</td>\n",
       "      <td>1</td>\n",
       "      <td>1</td>\n",
       "      <td>1</td>\n",
       "      <td>101348.88</td>\n",
       "      <td>1</td>\n",
       "    </tr>\n",
       "    <tr>\n",
       "      <th>1</th>\n",
       "      <td>2</td>\n",
       "      <td>15647311</td>\n",
       "      <td>Hill</td>\n",
       "      <td>608</td>\n",
       "      <td>Spain</td>\n",
       "      <td>Female</td>\n",
       "      <td>41</td>\n",
       "      <td>1</td>\n",
       "      <td>83807.86</td>\n",
       "      <td>1</td>\n",
       "      <td>0</td>\n",
       "      <td>1</td>\n",
       "      <td>112542.58</td>\n",
       "      <td>0</td>\n",
       "    </tr>\n",
       "    <tr>\n",
       "      <th>2</th>\n",
       "      <td>3</td>\n",
       "      <td>15619304</td>\n",
       "      <td>Onio</td>\n",
       "      <td>502</td>\n",
       "      <td>France</td>\n",
       "      <td>Female</td>\n",
       "      <td>42</td>\n",
       "      <td>8</td>\n",
       "      <td>159660.80</td>\n",
       "      <td>3</td>\n",
       "      <td>1</td>\n",
       "      <td>0</td>\n",
       "      <td>113931.57</td>\n",
       "      <td>1</td>\n",
       "    </tr>\n",
       "  </tbody>\n",
       "</table>\n",
       "</div>"
      ],
      "text/plain": [
       "   RowNumber  CustomerId   Surname  CreditScore Geography  Gender  Age  \\\n",
       "0          1    15634602  Hargrave          619    France  Female   42   \n",
       "1          2    15647311      Hill          608     Spain  Female   41   \n",
       "2          3    15619304      Onio          502    France  Female   42   \n",
       "\n",
       "   Tenure    Balance  NumOfProducts  HasCrCard  IsActiveMember  \\\n",
       "0       2       0.00              1          1               1   \n",
       "1       1   83807.86              1          0               1   \n",
       "2       8  159660.80              3          1               0   \n",
       "\n",
       "   EstimatedSalary  Exited  \n",
       "0        101348.88       1  \n",
       "1        112542.58       0  \n",
       "2        113931.57       1  "
      ]
     },
     "execution_count": 2,
     "metadata": {},
     "output_type": "execute_result"
    }
   ],
   "source": [
    "df = pd.read_csv(\"materials/churn_data.csv\")\n",
    "df.head(3)"
   ]
  },
  {
   "cell_type": "code",
   "execution_count": 3,
   "id": "proud-public",
   "metadata": {},
   "outputs": [],
   "source": [
    "X = df[['RowNumber', 'CustomerId', 'Surname', 'CreditScore', 'Geography',\n",
    "        'Gender', 'Age', 'Tenure', 'Balance', 'NumOfProducts', 'HasCrCard',\n",
    "        'IsActiveMember', 'EstimatedSalary']]\n",
    "y = df['Exited']"
   ]
  },
  {
   "cell_type": "code",
   "execution_count": 4,
   "id": "academic-choice",
   "metadata": {},
   "outputs": [],
   "source": [
    "# разделим данные на train/test\n",
    "X_train, X_test, y_train, y_test = train_test_split(X, y, random_state=0)"
   ]
  },
  {
   "cell_type": "code",
   "execution_count": 5,
   "id": "offshore-criminal",
   "metadata": {},
   "outputs": [],
   "source": [
    "# делим названия колонок данных на категориальные/численные\n",
    "categorical_columns = ['Geography', 'Gender', 'Tenure', 'HasCrCard', 'IsActiveMember']\n",
    "continuous_columns = ['CreditScore', 'Age', 'Balance', 'NumOfProducts', 'EstimatedSalary']"
   ]
  },
  {
   "cell_type": "markdown",
   "id": "incomplete-working",
   "metadata": {},
   "source": [
    "## Создаем Pipelines"
   ]
  },
  {
   "cell_type": "markdown",
   "id": "different-suite",
   "metadata": {},
   "source": [
    "### Random Forest"
   ]
  },
  {
   "cell_type": "code",
   "execution_count": 6,
   "id": "powered-listening",
   "metadata": {},
   "outputs": [],
   "source": [
    "# делаем дамми переменные, только не через пандас, а через OHE из sklearn\n",
    "ohe = OneHotEncoder(sparse=False)\n",
    "# создаем обьект с моделью случайного леса\n",
    "rfc = RandomForestClassifier(random_state=42)\n",
    "# создаем обьект робаст скейлера\n",
    "rs = RobustScaler()\n",
    "\n",
    "# создаем column_transformer к категориальным колонкам применяем OHE, к числовым - RobustScaler\n",
    "ct = make_column_transformer((ohe, categorical_columns),\n",
    "                             (rs, continuous_columns))\n",
    "\n",
    "# создаем пайплайн (он создаст дамми переменные по категориальным колонкам и получившиеся данные передаст в случайный лес)\n",
    "pipe = make_pipeline(ct, rfc)\n",
    "# подаем данные в пайплайн\n",
    "# pipe.fit(X_train, y_train)"
   ]
  },
  {
   "cell_type": "markdown",
   "id": "analyzed-subsection",
   "metadata": {},
   "source": [
    "#### Подбираем параметры для модели"
   ]
  },
  {
   "cell_type": "code",
   "execution_count": 7,
   "id": "blessed-matter",
   "metadata": {},
   "outputs": [
    {
     "data": {
      "text/plain": [
       "{'randomforestclassifier__max_depth': 6,\n",
       " 'randomforestclassifier__min_samples_leaf': 3,\n",
       " 'randomforestclassifier__n_estimators': 100}"
      ]
     },
     "execution_count": 7,
     "metadata": {},
     "output_type": "execute_result"
    }
   ],
   "source": [
    "params={'randomforestclassifier__n_estimators':[50, 100, 200],\n",
    "        'randomforestclassifier__min_samples_leaf':[1, 2, 3, 5, 10, 20],\n",
    "        'randomforestclassifier__max_depth':[1, 2, 3, 4, 5, 6]\n",
    "        }\n",
    "\n",
    "grid = GridSearchCV(pipe,\n",
    "                    param_grid=params,\n",
    "                    cv=6,\n",
    "                    refit=False)\n",
    "\n",
    "search = grid.fit(X, y)\n",
    "search.best_params_"
   ]
  },
  {
   "cell_type": "markdown",
   "id": "roman-release",
   "metadata": {},
   "source": [
    "#### Проходим кросс валидацию, используя F1-score"
   ]
  },
  {
   "cell_type": "code",
   "execution_count": 8,
   "id": "ongoing-substitute",
   "metadata": {},
   "outputs": [],
   "source": [
    "rfc_best = RandomForestClassifier(random_state=42, n_estimators=100, max_depth=6, min_samples_leaf=3)\n",
    "pipe_best = make_pipeline(ct, rfc)\n",
    "\n",
    "cv_score = cross_val_score(pipe_best, X, y, cv=6, scoring='f1_weighted')"
   ]
  },
  {
   "cell_type": "code",
   "execution_count": 9,
   "id": "alert-mauritius",
   "metadata": {},
   "outputs": [
    {
     "data": {
      "text/plain": [
       "0.8476356013120019"
      ]
     },
     "execution_count": 9,
     "metadata": {},
     "output_type": "execute_result"
    }
   ],
   "source": [
    "cv_score.mean()"
   ]
  },
  {
   "cell_type": "markdown",
   "id": "veterinary-trace",
   "metadata": {},
   "source": [
    "### Gradient Boosting"
   ]
  },
  {
   "cell_type": "code",
   "execution_count": 10,
   "id": "equipped-adoption",
   "metadata": {},
   "outputs": [],
   "source": [
    "ohe = OneHotEncoder(sparse=False)\n",
    "gbc = GradientBoostingClassifier(random_state=42)\n",
    "\n",
    "ct = make_column_transformer((ohe, categorical_columns),\n",
    "                             (rs, continuous_columns))\n",
    "\n",
    "pipe = make_pipeline(ct, gbc)\n",
    "# pipe.fit(X_train, y_train)"
   ]
  },
  {
   "cell_type": "code",
   "execution_count": 16,
   "id": "every-technician",
   "metadata": {},
   "outputs": [
    {
     "data": {
      "text/plain": [
       "{'gradientboostingclassifier__learning_rate': 0.075,\n",
       " 'gradientboostingclassifier__max_depth': 3,\n",
       " 'gradientboostingclassifier__min_samples_leaf': 3,\n",
       " 'gradientboostingclassifier__n_estimators': 200}"
      ]
     },
     "execution_count": 16,
     "metadata": {},
     "output_type": "execute_result"
    }
   ],
   "source": [
    "params={'gradientboostingclassifier__learning_rate':[0.1, 0.075, 0.05, 0.025, 0.01],\n",
    "        'gradientboostingclassifier__n_estimators':[50, 100, 200],\n",
    "        'gradientboostingclassifier__min_samples_leaf':[1, 3, 5, 10],\n",
    "        'gradientboostingclassifier__max_depth':[1, 2, 3, 4]\n",
    "        }\n",
    "\n",
    "grid = GridSearchCV(pipe,\n",
    "                    param_grid=params,\n",
    "                    cv=6,\n",
    "                    refit=False)\n",
    "\n",
    "search = grid.fit(X_train, y_train)\n",
    "search.best_params_"
   ]
  },
  {
   "cell_type": "code",
   "execution_count": 17,
   "id": "related-samba",
   "metadata": {},
   "outputs": [],
   "source": [
    "gbc_best = GradientBoostingClassifier(random_state=42, learning_rate=0.075, n_estimators=200, max_depth=3, min_samples_leaf=3)\n",
    "pipe_best = make_pipeline(ct, gbc_best)\n",
    "\n",
    "cv_score = cross_val_score(pipe_best, X, y, cv=6, scoring='f1_weighted')"
   ]
  },
  {
   "cell_type": "code",
   "execution_count": 18,
   "id": "blocked-aspect",
   "metadata": {},
   "outputs": [
    {
     "data": {
      "text/plain": [
       "0.850723768061036"
      ]
     },
     "execution_count": 18,
     "metadata": {},
     "output_type": "execute_result"
    }
   ],
   "source": [
    "cv_score.mean()"
   ]
  },
  {
   "cell_type": "markdown",
   "id": "limiting-horror",
   "metadata": {},
   "source": [
    "### Logistic Regression"
   ]
  },
  {
   "cell_type": "code",
   "execution_count": 19,
   "id": "continental-michael",
   "metadata": {},
   "outputs": [],
   "source": [
    "lr = LogisticRegression(random_state=42)\n",
    "\n",
    "pipe = make_pipeline(ct, lr)\n",
    "\n",
    "# pipe.fit(X_train, y_train)"
   ]
  },
  {
   "cell_type": "code",
   "execution_count": 39,
   "id": "geological-requirement",
   "metadata": {},
   "outputs": [
    {
     "data": {
      "text/plain": [
       "{'logisticregression__C': 0.32}"
      ]
     },
     "execution_count": 39,
     "metadata": {},
     "output_type": "execute_result"
    }
   ],
   "source": [
    "params={'logisticregression__C':list(map(lambda x: round(x, 2), np.linspace(0.1, 1.1, 10))),\n",
    "        }\n",
    "\n",
    "grid = GridSearchCV(pipe,\n",
    "                    param_grid=params,\n",
    "                    cv=6,\n",
    "                    refit=False)\n",
    "\n",
    "search = grid.fit(X, y)\n",
    "search.best_params_"
   ]
  },
  {
   "cell_type": "code",
   "execution_count": 40,
   "id": "featured-order",
   "metadata": {},
   "outputs": [],
   "source": [
    "lr_best = LogisticRegression(random_state=42, C=0.32)\n",
    "pipe_best = make_pipeline(ct, lr_best)\n",
    "\n",
    "cv_score = cross_val_score(pipe_best, X, y, cv=6, scoring='f1_weighted')"
   ]
  },
  {
   "cell_type": "code",
   "execution_count": 41,
   "id": "architectural-voice",
   "metadata": {},
   "outputs": [
    {
     "data": {
      "text/plain": [
       "0.7733018969827511"
      ]
     },
     "execution_count": 41,
     "metadata": {},
     "output_type": "execute_result"
    }
   ],
   "source": [
    "cv_score.mean()"
   ]
  },
  {
   "cell_type": "markdown",
   "id": "residential-remark",
   "metadata": {},
   "source": [
    "## Оценка экономической модели, использую GradientBoosting"
   ]
  },
  {
   "cell_type": "code",
   "execution_count": 42,
   "id": "featured-integer",
   "metadata": {},
   "outputs": [],
   "source": [
    "pipe_best = make_pipeline(ct, gbc_best)\n",
    "pipe_best.fit(X_train, y_train)\n",
    "\n",
    "y_pred = pipe_best.predict_proba(X_test)\n",
    "y_pred = y_pred[:, 1]"
   ]
  },
  {
   "cell_type": "code",
   "execution_count": 57,
   "id": "fourth-comment",
   "metadata": {},
   "outputs": [
    {
     "name": "stdout",
     "output_type": "stream",
     "text": [
      "Best Threshold=0.375024, F-Score=0.647, Precision=0.671, Recall=0.625\n"
     ]
    }
   ],
   "source": [
    "precision, recall, thresholds = precision_recall_curve(y_test, y_pred)\n",
    "fscore = (2 * precision * recall) / (precision + recall)\n",
    "ix = np.argmax(fscore)\n",
    "print('Best Threshold=%f, F-Score=%.3f, Precision=%.3f, Recall=%.3f' % (thresholds[ix], fscore[ix], precision[ix], recall[ix]))"
   ]
  },
  {
   "cell_type": "code",
   "execution_count": 55,
   "id": "three-validity",
   "metadata": {},
   "outputs": [
    {
     "data": {
      "text/plain": [
       "array([0.20425361, 0.20393416, 0.20401606, ..., 1.        , 1.        ,\n",
       "       1.        ])"
      ]
     },
     "execution_count": 55,
     "metadata": {},
     "output_type": "execute_result"
    }
   ],
   "source": [
    "precision"
   ]
  },
  {
   "cell_type": "code",
   "execution_count": 56,
   "id": "foster-solution",
   "metadata": {},
   "outputs": [
    {
     "data": {
      "text/plain": [
       "array([1.        , 0.99803536, 0.99803536, ..., 0.00392927, 0.00196464,\n",
       "       0.        ])"
      ]
     },
     "execution_count": 56,
     "metadata": {},
     "output_type": "execute_result"
    }
   ],
   "source": [
    "recall"
   ]
  },
  {
   "cell_type": "code",
   "execution_count": 46,
   "id": "limiting-piano",
   "metadata": {},
   "outputs": [
    {
     "data": {
      "text/plain": [
       "array([[1835,  156],\n",
       "       [ 192,  317]], dtype=int64)"
      ]
     },
     "execution_count": 46,
     "metadata": {},
     "output_type": "execute_result"
    }
   ],
   "source": [
    "conf_matrix = confusion_matrix(y_test, y_pred>thresholds[ix])\n",
    "conf_matrix"
   ]
  },
  {
   "cell_type": "markdown",
   "id": "difficult-latitude",
   "metadata": {},
   "source": [
    "### Интерпретация матрицы ошибок:\n",
    "1835 клиентов были обозначены как стабильные (не собираются уходить) И эта гипотеза оказалась верной  \n",
    "156 клиентов были обозначены стабильными. Но на самом деле ушли  \n",
    "192 клиента были обозначены как собирающиеся уходить. Но на самом деле не собирались уходить  \n",
    "317 клиентов были обозначены как собирающиеся уходить. И эта гипотеза оказалась верной  \n",
    "  \n",
    "#### Экономические расчеты:  \n",
    "  \n",
    "На 1835 клиентов мы не потратили ничего и ничего не потеряли  \n",
    "156 клиентов у нас ушло в отток, так как мы думали, что они стабильные, и ошиблись  \n",
    "192 клиента мы просто так постарались привлечь, хотя этого не требовалось  \n",
    "317 клиентов были вовремя \"привлечены\" и не ушли в отток  \n",
    "  \n",
    "192 + 317 = 509 - долларов потрачено на удержание клиентов  \n",
    "317 * 2 = 634 - доллара доход с клиентов, которые не ушли в отток  \n",
    "неизвестно, сколько денег было потеряно, не привлеча 156 клиентов, ушедших в отток  \n",
    "  \n",
    "Итого, модель работает минимально прибыльно. Максимизируя метрику полноты (recall) мы будем меньше тратить денег впустую, привлекая и без того стабильных клиентов. Однако при этом, вполне может уменьшится количество правильно опознанных клиентов, собирающихся уйти в отток"
   ]
  },
  {
   "cell_type": "markdown",
   "id": "drawn-department",
   "metadata": {},
   "source": [
    "***\n",
    "P.S. Подбор гиперпараметров модели был произведен сразу же, на этапе выбора модели. Сбалансированый F-score после подбора параметров увеличился с 0.7 до 0.85. Не очевидно, насколько большой прирост это дало в пересчете на финансы, но он явно есть :)"
   ]
  }
 ],
 "metadata": {
  "kernelspec": {
   "display_name": "Python 3",
   "language": "python",
   "name": "python3"
  },
  "language_info": {
   "codemirror_mode": {
    "name": "ipython",
    "version": 3
   },
   "file_extension": ".py",
   "mimetype": "text/x-python",
   "name": "python",
   "nbconvert_exporter": "python",
   "pygments_lexer": "ipython3",
   "version": "3.9.0"
  }
 },
 "nbformat": 4,
 "nbformat_minor": 5
}
