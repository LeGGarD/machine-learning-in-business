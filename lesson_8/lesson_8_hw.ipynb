{
 "cells": [
  {
   "cell_type": "markdown",
   "id": "cognitive-steel",
   "metadata": {},
   "source": [
    "# Урок 8. Проверяем работу модели на практике: A/B-тестирование\n",
    "  \n",
    "Выбрать задание\n",
    "1. практическое задание stat_ab.ipynb\n",
    "2. теоретическое задание в ноутбуке с вебинара AB_practice.ipynb"
   ]
  },
  {
   "cell_type": "code",
   "execution_count": null,
   "id": "advance-reservoir",
   "metadata": {},
   "outputs": [],
   "source": []
  }
 ],
 "metadata": {
  "kernelspec": {
   "display_name": "Python 3",
   "language": "python",
   "name": "python3"
  },
  "language_info": {
   "codemirror_mode": {
    "name": "ipython",
    "version": 3
   },
   "file_extension": ".py",
   "mimetype": "text/x-python",
   "name": "python",
   "nbconvert_exporter": "python",
   "pygments_lexer": "ipython3",
   "version": "3.9.0"
  }
 },
 "nbformat": 4,
 "nbformat_minor": 5
}
