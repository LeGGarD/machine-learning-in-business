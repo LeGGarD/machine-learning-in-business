{
 "cells": [
  {
   "cell_type": "markdown",
   "id": "phantom-plant",
   "metadata": {},
   "source": [
    "# Урок 6. Задача look-alike\n",
    "1. взять любой набор данных для бинарной классификации (можно скачать один из модельных с https://archive.ics.uci.edu/ml/datasets.php)\n",
    "2. сделать feature engineering\n",
    "3. обучить любой классификатор (какой вам нравится)\n",
    "4. далее разделить ваш набор данных на два множества: P (positives) и U (unlabeled). Причем брать нужно не все положительные (класс 1) примеры, а только лишь часть\n",
    "5. применить random negative sampling для построения классификатора в новых условиях\n",
    "6. сравнить качество с решением из пункта 4 (построить отчет - таблицу метрик)\n",
    "7. поэкспериментировать с долей P на шаге 5 (как будет меняться качество модели при уменьшении/увеличении размера P)"
   ]
  },
  {
   "cell_type": "code",
   "execution_count": null,
   "id": "union-collapse",
   "metadata": {},
   "outputs": [],
   "source": []
  }
 ],
 "metadata": {
  "kernelspec": {
   "display_name": "Python 3",
   "language": "python",
   "name": "python3"
  },
  "language_info": {
   "codemirror_mode": {
    "name": "ipython",
    "version": 3
   },
   "file_extension": ".py",
   "mimetype": "text/x-python",
   "name": "python",
   "nbconvert_exporter": "python",
   "pygments_lexer": "ipython3",
   "version": "3.9.0"
  }
 },
 "nbformat": 4,
 "nbformat_minor": 5
}
