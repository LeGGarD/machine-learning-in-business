{
 "cells": [
  {
   "cell_type": "markdown",
   "id": "phantom-plant",
   "metadata": {},
   "source": [
    "# Урок 6. Задача look-alike\n",
    "1. взять любой набор данных для бинарной классификации (можно скачать один из модельных с https://archive.ics.uci.edu/ml/datasets.php)\n",
    "2. сделать feature engineering\n",
    "3. обучить любой классификатор (какой вам нравится)\n",
    "4. далее разделить ваш набор данных на два множества: P (positives) и U (unlabeled). Причем брать нужно не все положительные (класс 1) примеры, а только лишь часть\n",
    "5. применить random negative sampling для построения классификатора в новых условиях\n",
    "6. сравнить качество с решением из пункта 4 (построить отчет - таблицу метрик)\n",
    "7. поэкспериментировать с долей P на шаге 5 (как будет меняться качество модели при уменьшении/увеличении размера P)"
   ]
  },
  {
   "cell_type": "code",
   "execution_count": 78,
   "id": "b1a5307c",
   "metadata": {},
   "outputs": [],
   "source": [
    "import pandas as pd\n",
    "import numpy as np\n",
    "\n",
    "import matplotlib.pyplot as plt\n",
    "%matplotlib inline\n",
    "import seaborn as sns\n",
    "\n",
    "from sklearn.model_selection import train_test_split\n",
    "\n",
    "from sklearn.compose import make_column_transformer\n",
    "from sklearn.pipeline import make_pipeline\n",
    "from sklearn.preprocessing import OneHotEncoder, OrdinalEncoder, RobustScaler\n",
    "\n",
    "from sklearn.ensemble import GradientBoostingClassifier\n",
    "\n",
    "from sklearn.model_selection import cross_val_score, GridSearchCV\n",
    "from sklearn.metrics import confusion_matrix, f1_score, roc_auc_score, \\\n",
    "                            precision_score, classification_report, precision_recall_curve\n",
    "\n",
    "import time"
   ]
  },
  {
   "cell_type": "code",
   "execution_count": 2,
   "id": "e055b047",
   "metadata": {},
   "outputs": [],
   "source": [
    "def corr_matrix(data, features):\n",
    "    corr_matrix = np.round(data.loc[:, features].corr(), 2)\n",
    "    corr_matrix[np.abs(corr_matrix) < 0.1] = 0\n",
    "    \n",
    "    plt.figure(figsize = (9,7))\n",
    "    sns.heatmap(corr_matrix, annot=True, linewidths=.5, cmap='GnBu')\n",
    "    plt.title('Correlation matrix')\n",
    "    plt.show()"
   ]
  },
  {
   "cell_type": "markdown",
   "id": "absolute-nebraska",
   "metadata": {},
   "source": [
    "# EDA"
   ]
  },
  {
   "cell_type": "code",
   "execution_count": 3,
   "id": "union-collapse",
   "metadata": {},
   "outputs": [],
   "source": [
    "DATA_PATH = \"./materials/train.csv\""
   ]
  },
  {
   "cell_type": "code",
   "execution_count": 4,
   "id": "e12cfc3b",
   "metadata": {},
   "outputs": [
    {
     "data": {
      "text/html": [
       "<div>\n",
       "<style scoped>\n",
       "    .dataframe tbody tr th:only-of-type {\n",
       "        vertical-align: middle;\n",
       "    }\n",
       "\n",
       "    .dataframe tbody tr th {\n",
       "        vertical-align: top;\n",
       "    }\n",
       "\n",
       "    .dataframe thead th {\n",
       "        text-align: right;\n",
       "    }\n",
       "</style>\n",
       "<table border=\"1\" class=\"dataframe\">\n",
       "  <thead>\n",
       "    <tr style=\"text-align: right;\">\n",
       "      <th></th>\n",
       "      <th>age</th>\n",
       "      <th>workclass</th>\n",
       "      <th>fnlwgt</th>\n",
       "      <th>education</th>\n",
       "      <th>educational-num</th>\n",
       "      <th>marital-status</th>\n",
       "      <th>occupation</th>\n",
       "      <th>relationship</th>\n",
       "      <th>race</th>\n",
       "      <th>gender</th>\n",
       "      <th>capital-gain</th>\n",
       "      <th>capital-loss</th>\n",
       "      <th>hours-per-week</th>\n",
       "      <th>native-country</th>\n",
       "      <th>income_&gt;50K</th>\n",
       "    </tr>\n",
       "  </thead>\n",
       "  <tbody>\n",
       "    <tr>\n",
       "      <th>0</th>\n",
       "      <td>67</td>\n",
       "      <td>Private</td>\n",
       "      <td>366425</td>\n",
       "      <td>Doctorate</td>\n",
       "      <td>16</td>\n",
       "      <td>Divorced</td>\n",
       "      <td>Exec-managerial</td>\n",
       "      <td>Not-in-family</td>\n",
       "      <td>White</td>\n",
       "      <td>Male</td>\n",
       "      <td>99999</td>\n",
       "      <td>0</td>\n",
       "      <td>60</td>\n",
       "      <td>United-States</td>\n",
       "      <td>1</td>\n",
       "    </tr>\n",
       "    <tr>\n",
       "      <th>1</th>\n",
       "      <td>17</td>\n",
       "      <td>Private</td>\n",
       "      <td>244602</td>\n",
       "      <td>12th</td>\n",
       "      <td>8</td>\n",
       "      <td>Never-married</td>\n",
       "      <td>Other-service</td>\n",
       "      <td>Own-child</td>\n",
       "      <td>White</td>\n",
       "      <td>Male</td>\n",
       "      <td>0</td>\n",
       "      <td>0</td>\n",
       "      <td>15</td>\n",
       "      <td>United-States</td>\n",
       "      <td>0</td>\n",
       "    </tr>\n",
       "    <tr>\n",
       "      <th>2</th>\n",
       "      <td>31</td>\n",
       "      <td>Private</td>\n",
       "      <td>174201</td>\n",
       "      <td>Bachelors</td>\n",
       "      <td>13</td>\n",
       "      <td>Married-civ-spouse</td>\n",
       "      <td>Exec-managerial</td>\n",
       "      <td>Husband</td>\n",
       "      <td>White</td>\n",
       "      <td>Male</td>\n",
       "      <td>0</td>\n",
       "      <td>0</td>\n",
       "      <td>40</td>\n",
       "      <td>United-States</td>\n",
       "      <td>1</td>\n",
       "    </tr>\n",
       "  </tbody>\n",
       "</table>\n",
       "</div>"
      ],
      "text/plain": [
       "   age workclass  fnlwgt  education  educational-num      marital-status  \\\n",
       "0   67   Private  366425  Doctorate               16            Divorced   \n",
       "1   17   Private  244602       12th                8       Never-married   \n",
       "2   31   Private  174201  Bachelors               13  Married-civ-spouse   \n",
       "\n",
       "        occupation   relationship   race gender  capital-gain  capital-loss  \\\n",
       "0  Exec-managerial  Not-in-family  White   Male         99999             0   \n",
       "1    Other-service      Own-child  White   Male             0             0   \n",
       "2  Exec-managerial        Husband  White   Male             0             0   \n",
       "\n",
       "   hours-per-week native-country  income_>50K  \n",
       "0              60  United-States            1  \n",
       "1              15  United-States            0  \n",
       "2              40  United-States            1  "
      ]
     },
     "execution_count": 4,
     "metadata": {},
     "output_type": "execute_result"
    }
   ],
   "source": [
    "df = pd.read_csv(DATA_PATH)\n",
    "df.head(3)"
   ]
  },
  {
   "cell_type": "code",
   "execution_count": 5,
   "id": "337ccf64",
   "metadata": {},
   "outputs": [],
   "source": [
    "df.dropna(inplace=True)"
   ]
  },
  {
   "cell_type": "code",
   "execution_count": 6,
   "id": "41103684",
   "metadata": {},
   "outputs": [],
   "source": [
    "X = df[['age', 'workclass', 'fnlwgt', 'education', 'educational-num',\n",
    "       'marital-status', 'occupation', 'relationship', 'race', 'gender',\n",
    "       'capital-gain', 'capital-loss', 'hours-per-week', 'native-country']]\n",
    "y = df['income_>50K']"
   ]
  },
  {
   "cell_type": "code",
   "execution_count": 7,
   "id": "b02d58f3",
   "metadata": {},
   "outputs": [],
   "source": [
    "num_features = ['age', 'fnlwgt', 'capital-gain', 'capital-loss', 'hours-per-week']\n",
    "\n",
    "oe_features = ['education']\n",
    "education_prio = ['Preschool', '1st-4th', '5th-6th', '7th-8th', '9th', '10th', '11th', '12th', \\\n",
    "                  'HS-grad', 'Prof-school', 'Assoc-acdm', 'Assoc-voc', \\\n",
    "                  'Some-college', 'Bachelors', 'Masters', 'Doctorate']\n",
    "\n",
    "ohe_features = ['workclass', 'marital-status', 'occupation', 'relationship', \\\n",
    "                'race', 'gender', 'native-country']\n",
    "\n",
    "# In the next homeworks I'll work with nans and will try to evaluate usefullness of the features\n",
    "columns_with_nan = ['workclass', 'occupation', 'native-country']"
   ]
  },
  {
   "cell_type": "code",
   "execution_count": 8,
   "id": "889be150",
   "metadata": {},
   "outputs": [],
   "source": [
    "X_train, X_test, y_train, y_test = train_test_split(X, y, random_state=42, test_size=0.2)"
   ]
  },
  {
   "cell_type": "markdown",
   "id": "median-patch",
   "metadata": {},
   "source": [
    "#### Создаем Pipeline"
   ]
  },
  {
   "cell_type": "code",
   "execution_count": 9,
   "id": "silent-parameter",
   "metadata": {},
   "outputs": [],
   "source": [
    "rs = RobustScaler()\n",
    "oe = OrdinalEncoder(categories=[education_prio])\n",
    "ohe = OneHotEncoder(sparse=False, handle_unknown='ignore')\n",
    "\n",
    "ct = make_column_transformer((rs, num_features),\n",
    "                             (oe, oe_features),\n",
    "                             (ohe, ohe_features),\n",
    "                             remainder='passthrough')\n",
    "\n",
    "\n",
    "gbc = GradientBoostingClassifier(random_state=42)\n",
    "\n",
    "\n",
    "pipe = make_pipeline(ct, gbc)"
   ]
  },
  {
   "cell_type": "markdown",
   "id": "crucial-swift",
   "metadata": {},
   "source": [
    "#### Анализируем данные, после трансформации"
   ]
  },
  {
   "cell_type": "code",
   "execution_count": 10,
   "id": "third-mumbai",
   "metadata": {},
   "outputs": [
    {
     "data": {
      "text/html": [
       "<div>\n",
       "<style scoped>\n",
       "    .dataframe tbody tr th:only-of-type {\n",
       "        vertical-align: middle;\n",
       "    }\n",
       "\n",
       "    .dataframe tbody tr th {\n",
       "        vertical-align: top;\n",
       "    }\n",
       "\n",
       "    .dataframe thead th {\n",
       "        text-align: right;\n",
       "    }\n",
       "</style>\n",
       "<table border=\"1\" class=\"dataframe\">\n",
       "  <thead>\n",
       "    <tr style=\"text-align: right;\">\n",
       "      <th></th>\n",
       "      <th>0</th>\n",
       "      <th>1</th>\n",
       "      <th>2</th>\n",
       "      <th>3</th>\n",
       "      <th>4</th>\n",
       "      <th>5</th>\n",
       "      <th>6</th>\n",
       "      <th>7</th>\n",
       "      <th>8</th>\n",
       "      <th>9</th>\n",
       "      <th>...</th>\n",
       "      <th>80</th>\n",
       "      <th>81</th>\n",
       "      <th>82</th>\n",
       "      <th>83</th>\n",
       "      <th>84</th>\n",
       "      <th>85</th>\n",
       "      <th>86</th>\n",
       "      <th>87</th>\n",
       "      <th>88</th>\n",
       "      <th>89</th>\n",
       "    </tr>\n",
       "  </thead>\n",
       "  <tbody>\n",
       "    <tr>\n",
       "      <th>0</th>\n",
       "      <td>1.578947</td>\n",
       "      <td>1.557604</td>\n",
       "      <td>99999.0</td>\n",
       "      <td>0.0</td>\n",
       "      <td>4.0</td>\n",
       "      <td>15.0</td>\n",
       "      <td>0.0</td>\n",
       "      <td>0.0</td>\n",
       "      <td>1.0</td>\n",
       "      <td>0.0</td>\n",
       "      <td>...</td>\n",
       "      <td>0.0</td>\n",
       "      <td>0.0</td>\n",
       "      <td>0.0</td>\n",
       "      <td>0.0</td>\n",
       "      <td>0.0</td>\n",
       "      <td>1.0</td>\n",
       "      <td>0.0</td>\n",
       "      <td>0.0</td>\n",
       "      <td>16.0</td>\n",
       "      <td>1.0</td>\n",
       "    </tr>\n",
       "    <tr>\n",
       "      <th>1</th>\n",
       "      <td>-1.052632</td>\n",
       "      <td>0.549052</td>\n",
       "      <td>0.0</td>\n",
       "      <td>0.0</td>\n",
       "      <td>-5.0</td>\n",
       "      <td>7.0</td>\n",
       "      <td>0.0</td>\n",
       "      <td>0.0</td>\n",
       "      <td>1.0</td>\n",
       "      <td>0.0</td>\n",
       "      <td>...</td>\n",
       "      <td>0.0</td>\n",
       "      <td>0.0</td>\n",
       "      <td>0.0</td>\n",
       "      <td>0.0</td>\n",
       "      <td>0.0</td>\n",
       "      <td>1.0</td>\n",
       "      <td>0.0</td>\n",
       "      <td>0.0</td>\n",
       "      <td>8.0</td>\n",
       "      <td>0.0</td>\n",
       "    </tr>\n",
       "    <tr>\n",
       "      <th>2</th>\n",
       "      <td>-0.315789</td>\n",
       "      <td>-0.033786</td>\n",
       "      <td>0.0</td>\n",
       "      <td>0.0</td>\n",
       "      <td>0.0</td>\n",
       "      <td>13.0</td>\n",
       "      <td>0.0</td>\n",
       "      <td>0.0</td>\n",
       "      <td>1.0</td>\n",
       "      <td>0.0</td>\n",
       "      <td>...</td>\n",
       "      <td>0.0</td>\n",
       "      <td>0.0</td>\n",
       "      <td>0.0</td>\n",
       "      <td>0.0</td>\n",
       "      <td>0.0</td>\n",
       "      <td>1.0</td>\n",
       "      <td>0.0</td>\n",
       "      <td>0.0</td>\n",
       "      <td>13.0</td>\n",
       "      <td>1.0</td>\n",
       "    </tr>\n",
       "    <tr>\n",
       "      <th>3</th>\n",
       "      <td>1.105263</td>\n",
       "      <td>-0.563648</td>\n",
       "      <td>0.0</td>\n",
       "      <td>0.0</td>\n",
       "      <td>0.0</td>\n",
       "      <td>3.0</td>\n",
       "      <td>0.0</td>\n",
       "      <td>0.0</td>\n",
       "      <td>0.0</td>\n",
       "      <td>0.0</td>\n",
       "      <td>...</td>\n",
       "      <td>0.0</td>\n",
       "      <td>0.0</td>\n",
       "      <td>0.0</td>\n",
       "      <td>0.0</td>\n",
       "      <td>0.0</td>\n",
       "      <td>1.0</td>\n",
       "      <td>0.0</td>\n",
       "      <td>0.0</td>\n",
       "      <td>4.0</td>\n",
       "      <td>0.0</td>\n",
       "    </tr>\n",
       "    <tr>\n",
       "      <th>4</th>\n",
       "      <td>-0.631579</td>\n",
       "      <td>-0.240368</td>\n",
       "      <td>0.0</td>\n",
       "      <td>0.0</td>\n",
       "      <td>0.0</td>\n",
       "      <td>12.0</td>\n",
       "      <td>0.0</td>\n",
       "      <td>0.0</td>\n",
       "      <td>0.0</td>\n",
       "      <td>0.0</td>\n",
       "      <td>...</td>\n",
       "      <td>0.0</td>\n",
       "      <td>0.0</td>\n",
       "      <td>0.0</td>\n",
       "      <td>0.0</td>\n",
       "      <td>0.0</td>\n",
       "      <td>1.0</td>\n",
       "      <td>0.0</td>\n",
       "      <td>0.0</td>\n",
       "      <td>10.0</td>\n",
       "      <td>0.0</td>\n",
       "    </tr>\n",
       "    <tr>\n",
       "      <th>...</th>\n",
       "      <td>...</td>\n",
       "      <td>...</td>\n",
       "      <td>...</td>\n",
       "      <td>...</td>\n",
       "      <td>...</td>\n",
       "      <td>...</td>\n",
       "      <td>...</td>\n",
       "      <td>...</td>\n",
       "      <td>...</td>\n",
       "      <td>...</td>\n",
       "      <td>...</td>\n",
       "      <td>...</td>\n",
       "      <td>...</td>\n",
       "      <td>...</td>\n",
       "      <td>...</td>\n",
       "      <td>...</td>\n",
       "      <td>...</td>\n",
       "      <td>...</td>\n",
       "      <td>...</td>\n",
       "      <td>...</td>\n",
       "      <td>...</td>\n",
       "    </tr>\n",
       "    <tr>\n",
       "      <th>40722</th>\n",
       "      <td>0.789474</td>\n",
       "      <td>-0.904876</td>\n",
       "      <td>0.0</td>\n",
       "      <td>0.0</td>\n",
       "      <td>2.0</td>\n",
       "      <td>13.0</td>\n",
       "      <td>0.0</td>\n",
       "      <td>0.0</td>\n",
       "      <td>1.0</td>\n",
       "      <td>0.0</td>\n",
       "      <td>...</td>\n",
       "      <td>0.0</td>\n",
       "      <td>0.0</td>\n",
       "      <td>0.0</td>\n",
       "      <td>0.0</td>\n",
       "      <td>0.0</td>\n",
       "      <td>1.0</td>\n",
       "      <td>0.0</td>\n",
       "      <td>0.0</td>\n",
       "      <td>13.0</td>\n",
       "      <td>1.0</td>\n",
       "    </tr>\n",
       "    <tr>\n",
       "      <th>40723</th>\n",
       "      <td>-0.947368</td>\n",
       "      <td>-0.510969</td>\n",
       "      <td>0.0</td>\n",
       "      <td>0.0</td>\n",
       "      <td>0.0</td>\n",
       "      <td>8.0</td>\n",
       "      <td>0.0</td>\n",
       "      <td>0.0</td>\n",
       "      <td>1.0</td>\n",
       "      <td>0.0</td>\n",
       "      <td>...</td>\n",
       "      <td>0.0</td>\n",
       "      <td>0.0</td>\n",
       "      <td>0.0</td>\n",
       "      <td>0.0</td>\n",
       "      <td>0.0</td>\n",
       "      <td>1.0</td>\n",
       "      <td>0.0</td>\n",
       "      <td>0.0</td>\n",
       "      <td>9.0</td>\n",
       "      <td>0.0</td>\n",
       "    </tr>\n",
       "    <tr>\n",
       "      <th>40724</th>\n",
       "      <td>-0.368421</td>\n",
       "      <td>0.162803</td>\n",
       "      <td>0.0</td>\n",
       "      <td>0.0</td>\n",
       "      <td>3.6</td>\n",
       "      <td>12.0</td>\n",
       "      <td>0.0</td>\n",
       "      <td>0.0</td>\n",
       "      <td>1.0</td>\n",
       "      <td>0.0</td>\n",
       "      <td>...</td>\n",
       "      <td>0.0</td>\n",
       "      <td>0.0</td>\n",
       "      <td>0.0</td>\n",
       "      <td>0.0</td>\n",
       "      <td>0.0</td>\n",
       "      <td>1.0</td>\n",
       "      <td>0.0</td>\n",
       "      <td>0.0</td>\n",
       "      <td>10.0</td>\n",
       "      <td>0.0</td>\n",
       "    </tr>\n",
       "    <tr>\n",
       "      <th>40725</th>\n",
       "      <td>0.473684</td>\n",
       "      <td>-0.665610</td>\n",
       "      <td>0.0</td>\n",
       "      <td>0.0</td>\n",
       "      <td>-1.0</td>\n",
       "      <td>13.0</td>\n",
       "      <td>0.0</td>\n",
       "      <td>0.0</td>\n",
       "      <td>1.0</td>\n",
       "      <td>0.0</td>\n",
       "      <td>...</td>\n",
       "      <td>0.0</td>\n",
       "      <td>0.0</td>\n",
       "      <td>0.0</td>\n",
       "      <td>0.0</td>\n",
       "      <td>0.0</td>\n",
       "      <td>1.0</td>\n",
       "      <td>0.0</td>\n",
       "      <td>0.0</td>\n",
       "      <td>13.0</td>\n",
       "      <td>0.0</td>\n",
       "    </tr>\n",
       "    <tr>\n",
       "      <th>40726</th>\n",
       "      <td>-0.368421</td>\n",
       "      <td>1.635442</td>\n",
       "      <td>0.0</td>\n",
       "      <td>0.0</td>\n",
       "      <td>0.0</td>\n",
       "      <td>8.0</td>\n",
       "      <td>0.0</td>\n",
       "      <td>0.0</td>\n",
       "      <td>1.0</td>\n",
       "      <td>0.0</td>\n",
       "      <td>...</td>\n",
       "      <td>0.0</td>\n",
       "      <td>0.0</td>\n",
       "      <td>0.0</td>\n",
       "      <td>0.0</td>\n",
       "      <td>0.0</td>\n",
       "      <td>1.0</td>\n",
       "      <td>0.0</td>\n",
       "      <td>0.0</td>\n",
       "      <td>9.0</td>\n",
       "      <td>0.0</td>\n",
       "    </tr>\n",
       "  </tbody>\n",
       "</table>\n",
       "<p>40727 rows × 90 columns</p>\n",
       "</div>"
      ],
      "text/plain": [
       "             0         1        2    3    4     5    6    7    8    9   ...  \\\n",
       "0      1.578947  1.557604  99999.0  0.0  4.0  15.0  0.0  0.0  1.0  0.0  ...   \n",
       "1     -1.052632  0.549052      0.0  0.0 -5.0   7.0  0.0  0.0  1.0  0.0  ...   \n",
       "2     -0.315789 -0.033786      0.0  0.0  0.0  13.0  0.0  0.0  1.0  0.0  ...   \n",
       "3      1.105263 -0.563648      0.0  0.0  0.0   3.0  0.0  0.0  0.0  0.0  ...   \n",
       "4     -0.631579 -0.240368      0.0  0.0  0.0  12.0  0.0  0.0  0.0  0.0  ...   \n",
       "...         ...       ...      ...  ...  ...   ...  ...  ...  ...  ...  ...   \n",
       "40722  0.789474 -0.904876      0.0  0.0  2.0  13.0  0.0  0.0  1.0  0.0  ...   \n",
       "40723 -0.947368 -0.510969      0.0  0.0  0.0   8.0  0.0  0.0  1.0  0.0  ...   \n",
       "40724 -0.368421  0.162803      0.0  0.0  3.6  12.0  0.0  0.0  1.0  0.0  ...   \n",
       "40725  0.473684 -0.665610      0.0  0.0 -1.0  13.0  0.0  0.0  1.0  0.0  ...   \n",
       "40726 -0.368421  1.635442      0.0  0.0  0.0   8.0  0.0  0.0  1.0  0.0  ...   \n",
       "\n",
       "        80   81   82   83   84   85   86   87    88   89  \n",
       "0      0.0  0.0  0.0  0.0  0.0  1.0  0.0  0.0  16.0  1.0  \n",
       "1      0.0  0.0  0.0  0.0  0.0  1.0  0.0  0.0   8.0  0.0  \n",
       "2      0.0  0.0  0.0  0.0  0.0  1.0  0.0  0.0  13.0  1.0  \n",
       "3      0.0  0.0  0.0  0.0  0.0  1.0  0.0  0.0   4.0  0.0  \n",
       "4      0.0  0.0  0.0  0.0  0.0  1.0  0.0  0.0  10.0  0.0  \n",
       "...    ...  ...  ...  ...  ...  ...  ...  ...   ...  ...  \n",
       "40722  0.0  0.0  0.0  0.0  0.0  1.0  0.0  0.0  13.0  1.0  \n",
       "40723  0.0  0.0  0.0  0.0  0.0  1.0  0.0  0.0   9.0  0.0  \n",
       "40724  0.0  0.0  0.0  0.0  0.0  1.0  0.0  0.0  10.0  0.0  \n",
       "40725  0.0  0.0  0.0  0.0  0.0  1.0  0.0  0.0  13.0  0.0  \n",
       "40726  0.0  0.0  0.0  0.0  0.0  1.0  0.0  0.0   9.0  0.0  \n",
       "\n",
       "[40727 rows x 90 columns]"
      ]
     },
     "execution_count": 10,
     "metadata": {},
     "output_type": "execute_result"
    }
   ],
   "source": [
    "df_trans = ct.fit_transform(df)\n",
    "df_trans = pd.DataFrame(df_trans)\n",
    "df_trans"
   ]
  },
  {
   "cell_type": "markdown",
   "id": "seeing-penetration",
   "metadata": {},
   "source": [
    "#### При трансформации имена колонок становятся не явными. Для того, чтобы разобраться что произошло, нужны следующие 2 ячейки"
   ]
  },
  {
   "cell_type": "code",
   "execution_count": 11,
   "id": "resident-occupation",
   "metadata": {},
   "outputs": [
    {
     "data": {
      "text/plain": [
       "[('robustscaler',\n",
       "  RobustScaler(),\n",
       "  ['age', 'fnlwgt', 'capital-gain', 'capital-loss', 'hours-per-week']),\n",
       " ('ordinalencoder',\n",
       "  OrdinalEncoder(categories=[['Preschool', '1st-4th', '5th-6th', '7th-8th', '9th',\n",
       "                              '10th', '11th', '12th', 'HS-grad', 'Prof-school',\n",
       "                              'Assoc-acdm', 'Assoc-voc', 'Some-college',\n",
       "                              'Bachelors', 'Masters', 'Doctorate']]),\n",
       "  ['education']),\n",
       " ('onehotencoder',\n",
       "  OneHotEncoder(handle_unknown='ignore', sparse=False),\n",
       "  ['workclass',\n",
       "   'marital-status',\n",
       "   'occupation',\n",
       "   'relationship',\n",
       "   'race',\n",
       "   'gender',\n",
       "   'native-country']),\n",
       " ('remainder', 'passthrough', [4, 14])]"
      ]
     },
     "execution_count": 11,
     "metadata": {},
     "output_type": "execute_result"
    }
   ],
   "source": [
    "ct.transformers_"
   ]
  },
  {
   "cell_type": "code",
   "execution_count": 12,
   "id": "scenic-scale",
   "metadata": {},
   "outputs": [
    {
     "data": {
      "text/plain": [
       "array(['x0_Federal-gov', 'x0_Local-gov', 'x0_Private', 'x0_Self-emp-inc',\n",
       "       'x0_Self-emp-not-inc', 'x0_State-gov', 'x0_Without-pay',\n",
       "       'x1_Divorced', 'x1_Married-AF-spouse', 'x1_Married-civ-spouse',\n",
       "       'x1_Married-spouse-absent', 'x1_Never-married', 'x1_Separated',\n",
       "       'x1_Widowed', 'x2_Adm-clerical', 'x2_Armed-Forces',\n",
       "       'x2_Craft-repair', 'x2_Exec-managerial', 'x2_Farming-fishing',\n",
       "       'x2_Handlers-cleaners', 'x2_Machine-op-inspct', 'x2_Other-service',\n",
       "       'x2_Priv-house-serv', 'x2_Prof-specialty', 'x2_Protective-serv',\n",
       "       'x2_Sales', 'x2_Tech-support', 'x2_Transport-moving', 'x3_Husband',\n",
       "       'x3_Not-in-family', 'x3_Other-relative', 'x3_Own-child',\n",
       "       'x3_Unmarried', 'x3_Wife', 'x4_Amer-Indian-Eskimo',\n",
       "       'x4_Asian-Pac-Islander', 'x4_Black', 'x4_Other', 'x4_White',\n",
       "       'x5_Female', 'x5_Male', 'x6_Cambodia', 'x6_Canada', 'x6_China',\n",
       "       'x6_Columbia', 'x6_Cuba', 'x6_Dominican-Republic', 'x6_Ecuador',\n",
       "       'x6_El-Salvador', 'x6_England', 'x6_France', 'x6_Germany',\n",
       "       'x6_Greece', 'x6_Guatemala', 'x6_Haiti', 'x6_Holand-Netherlands',\n",
       "       'x6_Honduras', 'x6_Hong', 'x6_Hungary', 'x6_India', 'x6_Iran',\n",
       "       'x6_Ireland', 'x6_Italy', 'x6_Jamaica', 'x6_Japan', 'x6_Laos',\n",
       "       'x6_Mexico', 'x6_Nicaragua', 'x6_Outlying-US(Guam-USVI-etc)',\n",
       "       'x6_Peru', 'x6_Philippines', 'x6_Poland', 'x6_Portugal',\n",
       "       'x6_Puerto-Rico', 'x6_Scotland', 'x6_South', 'x6_Taiwan',\n",
       "       'x6_Thailand', 'x6_Trinadad&Tobago', 'x6_United-States',\n",
       "       'x6_Vietnam', 'x6_Yugoslavia'], dtype=object)"
      ]
     },
     "execution_count": 12,
     "metadata": {},
     "output_type": "execute_result"
    }
   ],
   "source": [
    "ct.transformers_[2][1].get_feature_names()"
   ]
  },
  {
   "cell_type": "markdown",
   "id": "banner-screen",
   "metadata": {},
   "source": [
    "#### При таком кол-ве фичей строить матрицу корреляции бесполезно, поэтому посмотрим только на корелляцию фичей с таргетом"
   ]
  },
  {
   "cell_type": "code",
   "execution_count": 13,
   "id": "better-poison",
   "metadata": {},
   "outputs": [
    {
     "data": {
      "text/plain": [
       "0     0.24\n",
       "2     0.22\n",
       "3     0.15\n",
       "4     0.23\n",
       "5     0.26\n",
       "8    -0.12\n",
       "9     0.14\n",
       "13   -0.13\n",
       "15    0.45\n",
       "17   -0.32\n",
       "20   -0.10\n",
       "23    0.21\n",
       "27   -0.17\n",
       "29    0.18\n",
       "34    0.40\n",
       "35   -0.20\n",
       "37   -0.22\n",
       "38   -0.15\n",
       "39    0.12\n",
       "45   -0.22\n",
       "46    0.22\n",
       "88    0.33\n",
       "89    1.00\n",
       "Name: 89, dtype: float64"
      ]
     },
     "execution_count": 13,
     "metadata": {},
     "output_type": "execute_result"
    }
   ],
   "source": [
    "corr_matrix = np.round(df_trans.loc[:, df_trans.columns].corr(), 2)\n",
    "corr_matrix[np.abs(corr_matrix) < 0.1] = 0\n",
    "corr_matrix = pd.DataFrame(corr_matrix)\n",
    "\n",
    "corr_matrix[89].loc[corr_matrix[89] != 0]"
   ]
  },
  {
   "cell_type": "markdown",
   "id": "moving-graph",
   "metadata": {},
   "source": [
    "Из-за трансформатора OHE + OE, цифровые колонки стали колонками 0-4, включительно. Колонка 5 - образование. Колонка 88 - наш таргет\n",
    "  \n",
    "Видим, что больше всего на таргет влияет:  \n",
    "  \n",
    "0  'age' (0.24),  \n",
    "2  'capital-gain' (0.22),   \n",
    "3  'capital-loss' (0.15),  \n",
    "4  'hours-per-week' (0.23),  \n",
    "5  'education' (0.26),\n",
    "  \n",
    "13 'x1_Divorced' (-0.13),  \n",
    "15 'x1_Married-civ-spouse' (0.45),   \n",
    "17 'x1_Never-married' (-0.32),  \n",
    "  \n",
    "20 'x2_Adm-clerical'  (-0.10),  \n",
    "23 'x2_Exec-managerial' (0.21),  \n",
    "27 'x2_Other-service' (-0.17),  \n",
    "29 'x2_Prof-specialty' (0.18),  \n",
    "  \n",
    "34 'x3_Husband' (0.40),  \n",
    "35 'x3_Not-in-family' (-0.20),  \n",
    "37 'x3_Own-child' (-0.22),  \n",
    "38 'x3_Unmarried' (-0.15),  \n",
    "39 'x3_Wife' (0.12),  \n",
    "  \n",
    "45 'x5_Female' (-0.22),   \n",
    "46 'x5_Male' (0.22)  \n",
    "  \n",
    "Колонка 88 - это тоже education, только проставленное в изначальных данных, не сразу это увидел и сделал свою версию через OrdinalEncoder :)  "
   ]
  },
  {
   "cell_type": "markdown",
   "id": "social-separate",
   "metadata": {},
   "source": [
    "***\n",
    "Чуть ниже я дропну колонки, которые вносят меньше 0.1 коэффициента корреляции. Возможно стоит повысить этот трешолд"
   ]
  },
  {
   "cell_type": "markdown",
   "id": "bacterial-exception",
   "metadata": {},
   "source": [
    "# Try GradientBoosting Perfimance on the Data"
   ]
  },
  {
   "cell_type": "code",
   "execution_count": 14,
   "id": "49fa9131",
   "metadata": {},
   "outputs": [
    {
     "data": {
      "text/plain": [
       "Pipeline(steps=[('columntransformer',\n",
       "                 ColumnTransformer(remainder='passthrough',\n",
       "                                   transformers=[('robustscaler',\n",
       "                                                  RobustScaler(),\n",
       "                                                  ['age', 'fnlwgt',\n",
       "                                                   'capital-gain',\n",
       "                                                   'capital-loss',\n",
       "                                                   'hours-per-week']),\n",
       "                                                 ('ordinalencoder',\n",
       "                                                  OrdinalEncoder(categories=[['Preschool',\n",
       "                                                                              '1st-4th',\n",
       "                                                                              '5th-6th',\n",
       "                                                                              '7th-8th',\n",
       "                                                                              '9th',\n",
       "                                                                              '10th',\n",
       "                                                                              '11th',\n",
       "                                                                              '12th',\n",
       "                                                                              'HS-grad',\n",
       "                                                                              'Prof-school',\n",
       "                                                                              'Assoc-acdm',\n",
       "                                                                              'Assoc-voc',\n",
       "                                                                              'Some-college',\n",
       "                                                                              'Bachelors',\n",
       "                                                                              'Masters',\n",
       "                                                                              'Doctorate']]),\n",
       "                                                  ['education']),\n",
       "                                                 ('onehotencoder',\n",
       "                                                  OneHotEncoder(handle_unknown='ignore',\n",
       "                                                                sparse=False),\n",
       "                                                  ['workclass',\n",
       "                                                   'marital-status',\n",
       "                                                   'occupation', 'relationship',\n",
       "                                                   'race', 'gender',\n",
       "                                                   'native-country'])])),\n",
       "                ('gradientboostingclassifier',\n",
       "                 GradientBoostingClassifier(random_state=42))])"
      ]
     },
     "execution_count": 14,
     "metadata": {},
     "output_type": "execute_result"
    }
   ],
   "source": [
    "pipe.fit(X_train, y_train)"
   ]
  },
  {
   "cell_type": "code",
   "execution_count": 15,
   "id": "2b770df1",
   "metadata": {},
   "outputs": [
    {
     "data": {
      "text/plain": [
       "0.8571297575629545"
      ]
     },
     "execution_count": 15,
     "metadata": {},
     "output_type": "execute_result"
    }
   ],
   "source": [
    "cv_score = cross_val_score(pipe, X, y, cv=3, scoring='f1_weighted')\n",
    "cv_score.mean()"
   ]
  },
  {
   "cell_type": "markdown",
   "id": "happy-highlight",
   "metadata": {},
   "source": [
    "#### Quick data cleaning after correlation analysis"
   ]
  },
  {
   "cell_type": "code",
   "execution_count": 16,
   "id": "electrical-disney",
   "metadata": {},
   "outputs": [
    {
     "data": {
      "text/html": [
       "<div>\n",
       "<style scoped>\n",
       "    .dataframe tbody tr th:only-of-type {\n",
       "        vertical-align: middle;\n",
       "    }\n",
       "\n",
       "    .dataframe tbody tr th {\n",
       "        vertical-align: top;\n",
       "    }\n",
       "\n",
       "    .dataframe thead th {\n",
       "        text-align: right;\n",
       "    }\n",
       "</style>\n",
       "<table border=\"1\" class=\"dataframe\">\n",
       "  <thead>\n",
       "    <tr style=\"text-align: right;\">\n",
       "      <th></th>\n",
       "      <th>age</th>\n",
       "      <th>education</th>\n",
       "      <th>marital-status</th>\n",
       "      <th>occupation</th>\n",
       "      <th>relationship</th>\n",
       "      <th>capital-gain</th>\n",
       "      <th>capital-loss</th>\n",
       "      <th>hours-per-week</th>\n",
       "      <th>income_&gt;50K</th>\n",
       "    </tr>\n",
       "  </thead>\n",
       "  <tbody>\n",
       "    <tr>\n",
       "      <th>0</th>\n",
       "      <td>67</td>\n",
       "      <td>Doctorate</td>\n",
       "      <td>Divorced</td>\n",
       "      <td>Exec-managerial</td>\n",
       "      <td>Not-in-family</td>\n",
       "      <td>99999</td>\n",
       "      <td>0</td>\n",
       "      <td>60</td>\n",
       "      <td>1</td>\n",
       "    </tr>\n",
       "    <tr>\n",
       "      <th>1</th>\n",
       "      <td>17</td>\n",
       "      <td>12th</td>\n",
       "      <td>Never-married</td>\n",
       "      <td>Other-service</td>\n",
       "      <td>Own-child</td>\n",
       "      <td>0</td>\n",
       "      <td>0</td>\n",
       "      <td>15</td>\n",
       "      <td>0</td>\n",
       "    </tr>\n",
       "    <tr>\n",
       "      <th>2</th>\n",
       "      <td>31</td>\n",
       "      <td>Bachelors</td>\n",
       "      <td>Married-civ-spouse</td>\n",
       "      <td>Exec-managerial</td>\n",
       "      <td>Husband</td>\n",
       "      <td>0</td>\n",
       "      <td>0</td>\n",
       "      <td>40</td>\n",
       "      <td>1</td>\n",
       "    </tr>\n",
       "    <tr>\n",
       "      <th>3</th>\n",
       "      <td>58</td>\n",
       "      <td>7th-8th</td>\n",
       "      <td>Married-civ-spouse</td>\n",
       "      <td>Transport-moving</td>\n",
       "      <td>Husband</td>\n",
       "      <td>0</td>\n",
       "      <td>0</td>\n",
       "      <td>40</td>\n",
       "      <td>0</td>\n",
       "    </tr>\n",
       "    <tr>\n",
       "      <th>4</th>\n",
       "      <td>25</td>\n",
       "      <td>Some-college</td>\n",
       "      <td>Never-married</td>\n",
       "      <td>Other-service</td>\n",
       "      <td>Not-in-family</td>\n",
       "      <td>0</td>\n",
       "      <td>0</td>\n",
       "      <td>40</td>\n",
       "      <td>0</td>\n",
       "    </tr>\n",
       "    <tr>\n",
       "      <th>...</th>\n",
       "      <td>...</td>\n",
       "      <td>...</td>\n",
       "      <td>...</td>\n",
       "      <td>...</td>\n",
       "      <td>...</td>\n",
       "      <td>...</td>\n",
       "      <td>...</td>\n",
       "      <td>...</td>\n",
       "      <td>...</td>\n",
       "    </tr>\n",
       "    <tr>\n",
       "      <th>43952</th>\n",
       "      <td>52</td>\n",
       "      <td>Bachelors</td>\n",
       "      <td>Married-civ-spouse</td>\n",
       "      <td>Exec-managerial</td>\n",
       "      <td>Husband</td>\n",
       "      <td>0</td>\n",
       "      <td>0</td>\n",
       "      <td>50</td>\n",
       "      <td>1</td>\n",
       "    </tr>\n",
       "    <tr>\n",
       "      <th>43953</th>\n",
       "      <td>19</td>\n",
       "      <td>HS-grad</td>\n",
       "      <td>Never-married</td>\n",
       "      <td>Other-service</td>\n",
       "      <td>Own-child</td>\n",
       "      <td>0</td>\n",
       "      <td>0</td>\n",
       "      <td>40</td>\n",
       "      <td>0</td>\n",
       "    </tr>\n",
       "    <tr>\n",
       "      <th>43954</th>\n",
       "      <td>30</td>\n",
       "      <td>Some-college</td>\n",
       "      <td>Divorced</td>\n",
       "      <td>Sales</td>\n",
       "      <td>Not-in-family</td>\n",
       "      <td>0</td>\n",
       "      <td>0</td>\n",
       "      <td>58</td>\n",
       "      <td>0</td>\n",
       "    </tr>\n",
       "    <tr>\n",
       "      <th>43955</th>\n",
       "      <td>46</td>\n",
       "      <td>Bachelors</td>\n",
       "      <td>Never-married</td>\n",
       "      <td>Sales</td>\n",
       "      <td>Not-in-family</td>\n",
       "      <td>0</td>\n",
       "      <td>0</td>\n",
       "      <td>35</td>\n",
       "      <td>0</td>\n",
       "    </tr>\n",
       "    <tr>\n",
       "      <th>43956</th>\n",
       "      <td>30</td>\n",
       "      <td>HS-grad</td>\n",
       "      <td>Never-married</td>\n",
       "      <td>Handlers-cleaners</td>\n",
       "      <td>Other-relative</td>\n",
       "      <td>0</td>\n",
       "      <td>0</td>\n",
       "      <td>40</td>\n",
       "      <td>0</td>\n",
       "    </tr>\n",
       "  </tbody>\n",
       "</table>\n",
       "<p>40727 rows × 9 columns</p>\n",
       "</div>"
      ],
      "text/plain": [
       "       age     education      marital-status         occupation  \\\n",
       "0       67     Doctorate            Divorced    Exec-managerial   \n",
       "1       17          12th       Never-married      Other-service   \n",
       "2       31     Bachelors  Married-civ-spouse    Exec-managerial   \n",
       "3       58       7th-8th  Married-civ-spouse   Transport-moving   \n",
       "4       25  Some-college       Never-married      Other-service   \n",
       "...    ...           ...                 ...                ...   \n",
       "43952   52     Bachelors  Married-civ-spouse    Exec-managerial   \n",
       "43953   19       HS-grad       Never-married      Other-service   \n",
       "43954   30  Some-college            Divorced              Sales   \n",
       "43955   46     Bachelors       Never-married              Sales   \n",
       "43956   30       HS-grad       Never-married  Handlers-cleaners   \n",
       "\n",
       "         relationship  capital-gain  capital-loss  hours-per-week  income_>50K  \n",
       "0       Not-in-family         99999             0              60            1  \n",
       "1           Own-child             0             0              15            0  \n",
       "2             Husband             0             0              40            1  \n",
       "3             Husband             0             0              40            0  \n",
       "4       Not-in-family             0             0              40            0  \n",
       "...               ...           ...           ...             ...          ...  \n",
       "43952         Husband             0             0              50            1  \n",
       "43953       Own-child             0             0              40            0  \n",
       "43954   Not-in-family             0             0              58            0  \n",
       "43955   Not-in-family             0             0              35            0  \n",
       "43956  Other-relative             0             0              40            0  \n",
       "\n",
       "[40727 rows x 9 columns]"
      ]
     },
     "execution_count": 16,
     "metadata": {},
     "output_type": "execute_result"
    }
   ],
   "source": [
    "columns_to_drop = ['fnlwgt', 'educational-num', 'workclass', 'race', 'native-country', 'gender']\n",
    "df_new = df.drop(columns=columns_to_drop)\n",
    "df_new"
   ]
  },
  {
   "cell_type": "code",
   "execution_count": 17,
   "id": "sharing-advertiser",
   "metadata": {},
   "outputs": [],
   "source": [
    "X_new = df_new.loc[:, df_new.columns[:-1]]\n",
    "y_new = df_new['income_>50K']"
   ]
  },
  {
   "cell_type": "markdown",
   "id": "developmental-confusion",
   "metadata": {},
   "source": [
    "#### Quick tuning of the hyperparameters "
   ]
  },
  {
   "cell_type": "code",
   "execution_count": 34,
   "id": "5562b231",
   "metadata": {},
   "outputs": [
    {
     "name": "stdout",
     "output_type": "stream",
     "text": [
      "Model tuning took 298.65485644340515 sec\n",
      "\n",
      "Results:\n",
      "gradientboostingclassifier__learning_rate: 0.05\n",
      "gradientboostingclassifier__max_depth: 5\n",
      "gradientboostingclassifier__min_samples_leaf: 1\n",
      "gradientboostingclassifier__n_estimators: 200\n"
     ]
    }
   ],
   "source": [
    "ct = make_column_transformer((rs, ['age', 'capital-gain', 'capital-loss', 'hours-per-week']),\n",
    "                             (oe, ['education']),\n",
    "                             (ohe, ['marital-status', 'occupation', 'relationship']),\n",
    "                             remainder='passthrough')\n",
    "\n",
    "pipe = make_pipeline(ct, gbc)\n",
    "\n",
    "params={'gradientboostingclassifier__learning_rate':[0.1, 0.05, 0.01],\n",
    "        'gradientboostingclassifier__n_estimators':[200],\n",
    "        'gradientboostingclassifier__min_samples_leaf':[1, 5, 10],\n",
    "        'gradientboostingclassifier__max_depth':[3, 5, 7]\n",
    "        }\n",
    "\n",
    "grid = GridSearchCV(pipe,\n",
    "                    param_grid=params,\n",
    "                    cv=2,\n",
    "                    refit=False,\n",
    "#                     verbose=20\n",
    "                   )\n",
    "\n",
    "t1 = time.time()\n",
    "search = grid.fit(X_new, y_new)\n",
    "t2 = time.time()\n",
    "\n",
    "results = search.best_params_\n",
    "\n",
    "print(f'Model tuning took {t2-t1} sec\\n\\nResults:')\n",
    "for parameter in results:\n",
    "    print(f'{parameter}: {results[parameter]}')"
   ]
  },
  {
   "cell_type": "code",
   "execution_count": 35,
   "id": "pending-jordan",
   "metadata": {},
   "outputs": [
    {
     "data": {
      "text/plain": [
       "0.861915322584994"
      ]
     },
     "execution_count": 35,
     "metadata": {},
     "output_type": "execute_result"
    }
   ],
   "source": [
    "gbc = GradientBoostingClassifier(random_state=42, learning_rate=0.05, n_estimators=200, min_samples_leaf=1, max_depth=5)\n",
    "\n",
    "pipe = make_pipeline(ct, gbc)\n",
    "\n",
    "cv_score = cross_val_score(pipe, X_new, y_new, cv=3, scoring='f1_weighted')\n",
    "cv_score.mean()"
   ]
  },
  {
   "cell_type": "code",
   "execution_count": 36,
   "id": "loved-google",
   "metadata": {},
   "outputs": [],
   "source": [
    "final_results = {}\n",
    "final_results['original_data'] = cv_score.mean()"
   ]
  },
  {
   "cell_type": "markdown",
   "id": "computational-institution",
   "metadata": {},
   "source": [
    "# PU Learning"
   ]
  },
  {
   "cell_type": "markdown",
   "id": "illegal-track",
   "metadata": {},
   "source": [
    "### Mocking the Data (50% of positive samples leaves)"
   ]
  },
  {
   "cell_type": "code",
   "execution_count": 90,
   "id": "minute-return",
   "metadata": {},
   "outputs": [
    {
     "name": "stdout",
     "output_type": "stream",
     "text": [
      "Using 5046/10092 as positives and unlabeling the rest\n",
      "target variable:\n",
      " 0    35681\n",
      "1     5046\n",
      "Name: class_test, dtype: int64\n"
     ]
    }
   ],
   "source": [
    "pos_sample_len = int(np.ceil(0.5 * len(pos_ind)))\n",
    "print(f'Using {pos_sample_len}/{len(pos_ind)} as positives and unlabeling the rest')\n",
    "\n",
    "pos_sample = pos_ind[:pos_sample_len]\n",
    "df_alt['class_test'] = 0\n",
    "df_alt.loc[pos_sample, 'class_test'] = 1\n",
    "print('target variable:\\n', df_alt.iloc[:,-1].value_counts())"
   ]
  },
  {
   "cell_type": "code",
   "execution_count": 91,
   "id": "developed-supply",
   "metadata": {},
   "outputs": [],
   "source": [
    "X_alt = df_alt.iloc[:,:-2]\n",
    "y_alt = df_alt.iloc[:,-1]\n",
    "y_orig = df_alt.iloc[:,-2]"
   ]
  },
  {
   "cell_type": "code",
   "execution_count": 92,
   "id": "sorted-spencer",
   "metadata": {},
   "outputs": [],
   "source": [
    "X_train, X_test, y_train, y_test, y_train_orig, y_test_orig = train_test_split(X_alt, y_alt, y_orig, test_size=0.2, random_state=42)"
   ]
  },
  {
   "cell_type": "code",
   "execution_count": 93,
   "id": "vietnamese-mounting",
   "metadata": {},
   "outputs": [],
   "source": [
    "pipe.fit(X_train, y_train)\n",
    "preds = pipe.predict(X_test)"
   ]
  },
  {
   "cell_type": "markdown",
   "id": "legitimate-preliminary",
   "metadata": {},
   "source": [
    "#### Evaluate the model"
   ]
  },
  {
   "cell_type": "code",
   "execution_count": 94,
   "id": "broadband-heath",
   "metadata": {},
   "outputs": [
    {
     "name": "stdout",
     "output_type": "stream",
     "text": [
      "Score of how could the model predict new labels: 0.8378135538928996\n",
      "Model score on original data (with real labels): 0.7138940283707828\n"
     ]
    }
   ],
   "source": [
    "f1_score_alt = f1_score(y_test, preds, average='weighted')\n",
    "print(f'Score of how could the model predict new labels: {f1_score_alt}')\n",
    "\n",
    "f1_score_25 = f1_score(y_test_orig, preds, average='weighted')\n",
    "print(f'Model score on original data (with real labels): {f1_score_25}')\n",
    "final_results['.5_pos'] = f1_score_25"
   ]
  },
  {
   "cell_type": "markdown",
   "id": "plastic-grain",
   "metadata": {},
   "source": [
    "### Mocking the Data (25% of positive samples leaves)"
   ]
  },
  {
   "cell_type": "code",
   "execution_count": 100,
   "id": "multiple-pledge",
   "metadata": {},
   "outputs": [
    {
     "name": "stdout",
     "output_type": "stream",
     "text": [
      "Using 2523/10092 as positives and unlabeling the rest\n",
      "target variable:\n",
      " 0    38204\n",
      "1     2523\n",
      "Name: class_test, dtype: int64\n"
     ]
    }
   ],
   "source": [
    "df_alt = df_new.copy()\n",
    "\n",
    "pos_ind = df_alt.loc[df_alt['income_>50K'] == 1].index.tolist()\n",
    "np.random.shuffle(pos_ind)\n",
    "\n",
    "pos_sample_len = int(np.ceil(0.25 * len(pos_ind)))\n",
    "print(f'Using {pos_sample_len}/{len(pos_ind)} as positives and unlabeling the rest')\n",
    "\n",
    "pos_sample = pos_ind[:pos_sample_len]\n",
    "df_alt['class_test'] = 0\n",
    "df_alt.loc[pos_sample, 'class_test'] = 1\n",
    "print('target variable:\\n', df_alt.iloc[:,-1].value_counts())"
   ]
  },
  {
   "cell_type": "code",
   "execution_count": 101,
   "id": "liquid-expansion",
   "metadata": {},
   "outputs": [],
   "source": [
    "X_alt = df_alt.iloc[:,:-2]\n",
    "y_alt = df_alt.iloc[:,-1]\n",
    "y_orig = df_alt.iloc[:,-2]"
   ]
  },
  {
   "cell_type": "code",
   "execution_count": 102,
   "id": "imposed-setup",
   "metadata": {},
   "outputs": [],
   "source": [
    "X_train, X_test, y_train, y_test, y_train_orig, y_test_orig = train_test_split(X_alt, y_alt, y_orig, test_size=0.2, random_state=42)"
   ]
  },
  {
   "cell_type": "code",
   "execution_count": 103,
   "id": "irish-riding",
   "metadata": {},
   "outputs": [],
   "source": [
    "pipe.fit(X_train, y_train)\n",
    "preds = pipe.predict(X_test)"
   ]
  },
  {
   "cell_type": "markdown",
   "id": "cutting-vitamin",
   "metadata": {},
   "source": [
    "#### Evaluate the model"
   ]
  },
  {
   "cell_type": "code",
   "execution_count": 104,
   "id": "difficult-access",
   "metadata": {},
   "outputs": [
    {
     "name": "stdout",
     "output_type": "stream",
     "text": [
      "Score of how could the model predict new labels: 0.9087651929150573\n",
      "Model score on original data (with real labels): 0.6495625527961028\n"
     ]
    }
   ],
   "source": [
    "f1_score_alt = f1_score(y_test, preds, average='weighted')\n",
    "print(f'Score of how could the model predict new labels: {f1_score_alt}')\n",
    "\n",
    "f1_score_25 = f1_score(y_test_orig, preds, average='weighted')\n",
    "print(f'Model score on original data (with real labels): {f1_score_25}')\n",
    "final_results['.25_pos'] = f1_score_25"
   ]
  },
  {
   "cell_type": "markdown",
   "id": "concerned-nation",
   "metadata": {},
   "source": [
    "### Mocking the Data (10% of positive samples leaves)"
   ]
  },
  {
   "cell_type": "code",
   "execution_count": 95,
   "id": "musical-chuck",
   "metadata": {},
   "outputs": [
    {
     "name": "stdout",
     "output_type": "stream",
     "text": [
      "Using 1010/10092 as positives and unlabeling the rest\n",
      "target variable:\n",
      " 0    39717\n",
      "1     1010\n",
      "Name: class_test, dtype: int64\n"
     ]
    }
   ],
   "source": [
    "pos_sample_len = int(np.ceil(0.1 * len(pos_ind)))\n",
    "print(f'Using {pos_sample_len}/{len(pos_ind)} as positives and unlabeling the rest')\n",
    "\n",
    "pos_sample = pos_ind[:pos_sample_len]\n",
    "df_alt['class_test'] = 0\n",
    "df_alt.loc[pos_sample, 'class_test'] = 1\n",
    "print('target variable:\\n', df_alt.iloc[:,-1].value_counts())"
   ]
  },
  {
   "cell_type": "code",
   "execution_count": 96,
   "id": "seeing-chemical",
   "metadata": {},
   "outputs": [],
   "source": [
    "X_alt = df_alt.iloc[:,:-2]\n",
    "y_alt = df_alt.iloc[:,-1]\n",
    "y_orig = df_alt.iloc[:,-2]"
   ]
  },
  {
   "cell_type": "code",
   "execution_count": 97,
   "id": "local-curtis",
   "metadata": {},
   "outputs": [],
   "source": [
    "X_train, X_test, y_train, y_test, y_train_orig, y_test_orig = train_test_split(X_alt, y_alt, y_orig, test_size=0.2, random_state=42)"
   ]
  },
  {
   "cell_type": "code",
   "execution_count": 98,
   "id": "informal-paris",
   "metadata": {},
   "outputs": [],
   "source": [
    "pipe.fit(X_train, y_train)\n",
    "preds = pipe.predict(X_test)"
   ]
  },
  {
   "cell_type": "code",
   "execution_count": 99,
   "id": "proof-connecticut",
   "metadata": {},
   "outputs": [
    {
     "name": "stdout",
     "output_type": "stream",
     "text": [
      "Score of how could the model predict new labels: 0.9579693018355241\n",
      "Model score on original data (with real labels): 0.6478880961721948\n"
     ]
    }
   ],
   "source": [
    "f1_score_alt = f1_score(y_test, preds, average='weighted')\n",
    "print(f'Score of how could the model predict new labels: {f1_score_alt}')\n",
    "\n",
    "f1_score_25 = f1_score(y_test_orig, preds, average='weighted')\n",
    "print(f'Model score on original data (with real labels): {f1_score_25}')\n",
    "final_results['.1_pos'] = f1_score_25"
   ]
  },
  {
   "cell_type": "markdown",
   "id": "flexible-mediterranean",
   "metadata": {},
   "source": [
    "***\n",
    "# Conclusions:"
   ]
  },
  {
   "cell_type": "code",
   "execution_count": 105,
   "id": "dimensional-devices",
   "metadata": {},
   "outputs": [
    {
     "data": {
      "text/plain": [
       "{'original_data': 0.861915322584994,\n",
       " '.25_pos': 0.6495625527961028,\n",
       " '.5_pos': 0.7138940283707828,\n",
       " '.1_pos': 0.6478880961721948}"
      ]
     },
     "execution_count": 105,
     "metadata": {},
     "output_type": "execute_result"
    }
   ],
   "source": [
    "final_results"
   ]
  },
  {
   "cell_type": "markdown",
   "id": "later-innocent",
   "metadata": {},
   "source": [
    "Метод random negative sampling нужен тогда, когда у нас много данных без лейбла. И смотреть на результаты моделей надо с этой перспективы  \n",
    "  \n",
    "Мы смоделировали ситуацию, где \"подселили\" в выборку \"неразмеченных\" (0) данных, данные, для которых размечен наш таргет, и с этой точки зрения получился очень даже неплохой результат  \n",
    "  \n",
    "Вместо оригинального F1 - 0.86, оставив всего 10% размеченных таргетом данных, мы получили F1 - 0.65  \n",
    "  \n",
    "Естественно методы 2-step approach и Spy выглядят более надежно в теории. И в будущем предпочтительно попробовать использовать их"
   ]
  }
 ],
 "metadata": {
  "kernelspec": {
   "display_name": "Python 3",
   "language": "python",
   "name": "python3"
  },
  "language_info": {
   "codemirror_mode": {
    "name": "ipython",
    "version": 3
   },
   "file_extension": ".py",
   "mimetype": "text/x-python",
   "name": "python",
   "nbconvert_exporter": "python",
   "pygments_lexer": "ipython3",
   "version": "3.9.0"
  }
 },
 "nbformat": 4,
 "nbformat_minor": 5
}
