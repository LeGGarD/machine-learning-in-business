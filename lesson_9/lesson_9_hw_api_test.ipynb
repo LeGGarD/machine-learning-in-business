{
 "cells": [
  {
   "cell_type": "markdown",
   "id": "c2f98909",
   "metadata": {},
   "source": [
    "# A notebook to test my API Service"
   ]
  },
  {
   "cell_type": "code",
   "execution_count": 62,
   "id": "887dfb9e",
   "metadata": {},
   "outputs": [],
   "source": [
    "import pandas as pd\n",
    "\n",
    "from sklearn.model_selection import train_test_split, cross_val_score\n",
    "from sklearn.metrics import f1_score\n",
    "\n",
    "from urllib import request, parse\n",
    "import json    \n",
    "import pickle"
   ]
  },
  {
   "cell_type": "markdown",
   "id": "1aa55866",
   "metadata": {},
   "source": [
    "***\n",
    "## Quick Start  \n",
    "  \n",
    "1. **To test the FastAPI Service you have to execute the following commands in terminal from _course_project_ directory:**  \n",
    "  (ensure that you've installed docker on your machine)  \n",
    "  \n",
    "  <code>sudo docker build -t course_project .</code>  \n",
    "  <code>sudo docker run -d -p 8080:8080 -v ~/PROGRAMMING/machine-learning-in-business/models:/app/models course_project</code>  \n",
    "  \n",
    "  In the CLI output you'll see your container ID  \n",
    "  <br>\n",
    "2. You should also check if your container is alive or just has been terminated:  \n",
    "  \n",
    "  <code>sudo docker ps -a</code>  \n",
    "  \n",
    "  **Expected output** (pay attention to STATUS, it has to be 'Up'):  \n",
    "  ```\n",
    "  CONTAINER ID   IMAGE            COMMAND                  CREATED              STATUS                           PORTS                                       NAMES\n",
    "  a918114e1522   course_project   \"uvicorn main:app --…\"   About a minute ago   Up About a minute                0.0.0.0:8080->8080/tcp, :::8080->8080/tcp   youthful_banach\n",
    "  ```  \n",
    "  <br>\n",
    "3. Now check the logs of your container  \n",
    "  \n",
    "  <code>sudo docker logs [your container ID]</code>  \n",
    "  \n",
    "  If everything is built correctly you will see the next **output**:  \n",
    "  ```\n",
    "  INFO:     Started server process [6966]\n",
    "  INFO:     Waiting for application startup.\n",
    "  INFO:     Application startup complete.\n",
    "  INFO:     Uvicorn running on http://0.0.0.0:8080 (Press CTRL+C to quit)\n",
    "  ```  \n",
    "  \n",
    "4. **Now you can execute the cells below**  \n",
    "***"
   ]
  },
  {
   "cell_type": "markdown",
   "id": "554d8cbc",
   "metadata": {},
   "source": [
    "### Loading the data"
   ]
  },
  {
   "cell_type": "code",
   "execution_count": 73,
   "id": "69e1477a",
   "metadata": {},
   "outputs": [],
   "source": [
    "DATA_PATH = \"./data/train.csv\""
   ]
  },
  {
   "cell_type": "code",
   "execution_count": 74,
   "id": "f84f3800",
   "metadata": {},
   "outputs": [
    {
     "data": {
      "text/html": [
       "<div>\n",
       "<style scoped>\n",
       "    .dataframe tbody tr th:only-of-type {\n",
       "        vertical-align: middle;\n",
       "    }\n",
       "\n",
       "    .dataframe tbody tr th {\n",
       "        vertical-align: top;\n",
       "    }\n",
       "\n",
       "    .dataframe thead th {\n",
       "        text-align: right;\n",
       "    }\n",
       "</style>\n",
       "<table border=\"1\" class=\"dataframe\">\n",
       "  <thead>\n",
       "    <tr style=\"text-align: right;\">\n",
       "      <th></th>\n",
       "      <th>age</th>\n",
       "      <th>workclass</th>\n",
       "      <th>fnlwgt</th>\n",
       "      <th>education</th>\n",
       "      <th>educational-num</th>\n",
       "      <th>marital-status</th>\n",
       "      <th>occupation</th>\n",
       "      <th>relationship</th>\n",
       "      <th>race</th>\n",
       "      <th>gender</th>\n",
       "      <th>capital-gain</th>\n",
       "      <th>capital-loss</th>\n",
       "      <th>hours-per-week</th>\n",
       "      <th>native-country</th>\n",
       "      <th>income_&gt;50K</th>\n",
       "    </tr>\n",
       "  </thead>\n",
       "  <tbody>\n",
       "    <tr>\n",
       "      <th>0</th>\n",
       "      <td>67</td>\n",
       "      <td>Private</td>\n",
       "      <td>366425</td>\n",
       "      <td>Doctorate</td>\n",
       "      <td>16</td>\n",
       "      <td>Divorced</td>\n",
       "      <td>Exec-managerial</td>\n",
       "      <td>Not-in-family</td>\n",
       "      <td>White</td>\n",
       "      <td>Male</td>\n",
       "      <td>99999</td>\n",
       "      <td>0</td>\n",
       "      <td>60</td>\n",
       "      <td>United-States</td>\n",
       "      <td>1</td>\n",
       "    </tr>\n",
       "    <tr>\n",
       "      <th>1</th>\n",
       "      <td>17</td>\n",
       "      <td>Private</td>\n",
       "      <td>244602</td>\n",
       "      <td>12th</td>\n",
       "      <td>8</td>\n",
       "      <td>Never-married</td>\n",
       "      <td>Other-service</td>\n",
       "      <td>Own-child</td>\n",
       "      <td>White</td>\n",
       "      <td>Male</td>\n",
       "      <td>0</td>\n",
       "      <td>0</td>\n",
       "      <td>15</td>\n",
       "      <td>United-States</td>\n",
       "      <td>0</td>\n",
       "    </tr>\n",
       "    <tr>\n",
       "      <th>2</th>\n",
       "      <td>31</td>\n",
       "      <td>Private</td>\n",
       "      <td>174201</td>\n",
       "      <td>Bachelors</td>\n",
       "      <td>13</td>\n",
       "      <td>Married-civ-spouse</td>\n",
       "      <td>Exec-managerial</td>\n",
       "      <td>Husband</td>\n",
       "      <td>White</td>\n",
       "      <td>Male</td>\n",
       "      <td>0</td>\n",
       "      <td>0</td>\n",
       "      <td>40</td>\n",
       "      <td>United-States</td>\n",
       "      <td>1</td>\n",
       "    </tr>\n",
       "  </tbody>\n",
       "</table>\n",
       "</div>"
      ],
      "text/plain": [
       "   age workclass  fnlwgt  education  educational-num      marital-status  \\\n",
       "0   67   Private  366425  Doctorate               16            Divorced   \n",
       "1   17   Private  244602       12th                8       Never-married   \n",
       "2   31   Private  174201  Bachelors               13  Married-civ-spouse   \n",
       "\n",
       "        occupation   relationship   race gender  capital-gain  capital-loss  \\\n",
       "0  Exec-managerial  Not-in-family  White   Male         99999             0   \n",
       "1    Other-service      Own-child  White   Male             0             0   \n",
       "2  Exec-managerial        Husband  White   Male             0             0   \n",
       "\n",
       "   hours-per-week native-country  income_>50K  \n",
       "0              60  United-States            1  \n",
       "1              15  United-States            0  \n",
       "2              40  United-States            1  "
      ]
     },
     "execution_count": 74,
     "metadata": {},
     "output_type": "execute_result"
    }
   ],
   "source": [
    "df = pd.read_csv(DATA_PATH)\n",
    "df.head(3)"
   ]
  },
  {
   "cell_type": "markdown",
   "id": "3a79e388",
   "metadata": {},
   "source": [
    "#### A bit of data preprocessing"
   ]
  },
  {
   "cell_type": "code",
   "execution_count": 75,
   "id": "6809505f",
   "metadata": {},
   "outputs": [],
   "source": [
    "df.dropna(inplace=True)\n",
    "\n",
    "columns_to_drop = ['fnlwgt', 'educational_num', 'workclass', 'race', 'native_country', 'gender']\n",
    "columns_ = [_.replace('-', '_') for _ in list(df.columns)]\n",
    "columns = dict(zip(list(df.columns), columns_))\n",
    "df.rename(columns=columns, inplace=True)\n",
    "df_new = df.drop(columns=columns_to_drop)\n",
    "\n",
    "X_new = df_new.loc[:, df_new.columns[:-1]]\n",
    "y_new = df_new['income_>50K']\n",
    "\n",
    "X_train, X_test, y_train, y_test = train_test_split(X_new, y_new, random_state=42, test_size=0.2)"
   ]
  },
  {
   "cell_type": "markdown",
   "id": "8d339cba",
   "metadata": {},
   "source": [
    "### The function to get model predictions via API"
   ]
  },
  {
   "cell_type": "code",
   "execution_count": 76,
   "id": "c2041057",
   "metadata": {},
   "outputs": [],
   "source": [
    "def get_prediction(df):\n",
    "    data = df.to_json(orient='columns')\n",
    "    dataasbytes = data.encode('utf-8') \n",
    "    myurl = \"http://0.0.0.0:8080/predict\"\n",
    "    req = request.Request(myurl)\n",
    "    req.add_header('Content-Type', 'application/json; charset=utf-8')\n",
    "    req.add_header('Content-Length', len(dataasbytes))\n",
    "    response = request.urlopen(req, dataasbytes)\n",
    "    return json.loads(response.read())['predictions']"
   ]
  },
  {
   "cell_type": "markdown",
   "id": "382121ff",
   "metadata": {},
   "source": [
    "## Getting model predictions:"
   ]
  },
  {
   "cell_type": "code",
   "execution_count": 84,
   "id": "7460ff80",
   "metadata": {},
   "outputs": [],
   "source": [
    "y_pred = get_prediction(X_test)"
   ]
  },
  {
   "cell_type": "markdown",
   "id": "ee626d59",
   "metadata": {},
   "source": [
    "### Comparing the results"
   ]
  },
  {
   "cell_type": "code",
   "execution_count": 81,
   "id": "0230313d",
   "metadata": {},
   "outputs": [],
   "source": [
    "filename = '../models/model02.pkl'\n",
    "loaded_model = pickle.load(open(filename, 'rb'))"
   ]
  },
  {
   "cell_type": "markdown",
   "id": "324128a4",
   "metadata": {},
   "source": [
    "actual model score:"
   ]
  },
  {
   "cell_type": "code",
   "execution_count": 82,
   "id": "f2830f3d",
   "metadata": {},
   "outputs": [
    {
     "data": {
      "text/plain": [
       "0.8471090916003515"
      ]
     },
     "execution_count": 82,
     "metadata": {},
     "output_type": "execute_result"
    }
   ],
   "source": [
    "cv_score = cross_val_score(loaded_model, X_test, y_test, cv=3, scoring='f1_weighted')\n",
    "cv_score.mean()"
   ]
  },
  {
   "cell_type": "markdown",
   "id": "e99feebe",
   "metadata": {},
   "source": [
    "score via API service:"
   ]
  },
  {
   "cell_type": "code",
   "execution_count": 83,
   "id": "a6f2bd91",
   "metadata": {},
   "outputs": [
    {
     "data": {
      "text/plain": [
       "0.8567749043423722"
      ]
     },
     "execution_count": 83,
     "metadata": {},
     "output_type": "execute_result"
    }
   ],
   "source": [
    "f1_score(y_test, y_pred, average='weighted')"
   ]
  }
 ],
 "metadata": {
  "kernelspec": {
   "display_name": "Python 3 (ipykernel)",
   "language": "python",
   "name": "python3"
  },
  "language_info": {
   "codemirror_mode": {
    "name": "ipython",
    "version": 3
   },
   "file_extension": ".py",
   "mimetype": "text/x-python",
   "name": "python",
   "nbconvert_exporter": "python",
   "pygments_lexer": "ipython3",
   "version": "3.8.10"
  }
 },
 "nbformat": 4,
 "nbformat_minor": 5
}
